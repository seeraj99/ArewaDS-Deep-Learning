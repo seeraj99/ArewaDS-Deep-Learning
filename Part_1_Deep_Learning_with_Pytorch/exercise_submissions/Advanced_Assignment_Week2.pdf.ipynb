{
 "cells": [
  {
   "cell_type": "code",
   "execution_count": 1,
   "id": "634749bc-157a-44b0-9694-ddb177446003",
   "metadata": {},
   "outputs": [
    {
     "name": "stdout",
     "output_type": "stream",
     "text": [
      "Using device: cpu\n"
     ]
    }
   ],
   "source": [
    "import torch\n",
    "from torch import nn\n",
    "# Checking for GPU availability\n",
    "device = torch.device(\"cuda\" if torch.cuda.is_available() else \"cpu\")\n",
    "print(f\"Using device: {device}\")"
   ]
  },
  {
   "cell_type": "code",
   "execution_count": 2,
   "id": "1650299c-e545-4042-8ab7-75dda54b8d93",
   "metadata": {},
   "outputs": [],
   "source": [
    "# Loading  the dataset (Download and Extract)\n",
    "import zipfile\n",
    "import urllib.request\n",
    "\n",
    "url = \"https://archive.ics.uci.edu/static/public/607/synchronous+machine+data+set.zip\"\n",
    "zip_path = \"data.zip\"\n",
    "csv_filename = \"synchronous machine.csv\"\n",
    "\n",
    "# Downloading dataset\n",
    "urllib.request.urlretrieve(url, zip_path)\n",
    "\n",
    "# Unzipping file\n",
    "with zipfile.ZipFile(zip_path, 'r') as my_zip:\n",
    "    my_zip.extractall()"
   ]
  },
  {
   "cell_type": "code",
   "execution_count": 3,
   "id": "a0f51d39-d821-439c-8ba7-fab57d17aeb7",
   "metadata": {},
   "outputs": [
    {
     "name": "stdout",
     "output_type": "stream",
     "text": [
      "               Iy          PF           e         dIf           If\n",
      "count  557.000000  557.000000  557.000000  557.000000   557.000000\n",
      "mean    39.763016   73.238779   15.838420  317.050269  1364.861759\n",
      "std     15.785814   26.405977   10.966386  201.304856   490.655197\n",
      "min      3.000000    1.000000    0.000000    1.000000    14.000000\n",
      "25%     34.000000   69.000000    5.000000  151.000000  1331.000000\n",
      "50%     43.000000   79.000000   15.000000  315.000000  1495.000000\n",
      "75%     52.000000   89.000000   25.000000  471.000000  1651.000000\n",
      "max     59.000000   99.000000   35.000000  769.000000  1949.000000\n",
      "Index(['Iy', 'PF', 'e', 'dIf', 'If'], dtype='object')\n"
     ]
    }
   ],
   "source": [
    "import pandas as pd\n",
    "import numpy as np\n",
    "\n",
    "# Read CSV with proper delimiter and thousands separator\n",
    "data = pd.read_csv(csv_filename, delimiter=\";\", thousands=',')\n",
    "print(data.describe())\n",
    "print(data.columns)"
   ]
  },
  {
   "cell_type": "code",
   "execution_count": 4,
   "id": "073cb79e-2a73-4288-9db2-7f1ce6ab01dd",
   "metadata": {},
   "outputs": [
    {
     "data": {
      "text/plain": [
       "((557, 5),\n",
       " array([[   3,   66,   34,  383, 1563],\n",
       "        [   3,   68,   32,  372, 1552],\n",
       "        [   3,    7,    3,   36,  154],\n",
       "        [   3,   72,   28,  338, 1518],\n",
       "        [   3,   74,   26,  317, 1497],\n",
       "        [   3,   76,   24,  301, 1481],\n",
       "        [   3,   78,   22,   29,  147],\n",
       "        [   3,    8,    2,   28,  146],\n",
       "        [   3,   82,   18,   25,  143],\n",
       "        [   3,   84,   16,  221, 1401]], dtype=int64))"
      ]
     },
     "execution_count": 4,
     "metadata": {},
     "output_type": "execute_result"
    }
   ],
   "source": [
    "#converting dataframe into numpy_data\n",
    "numpy_data = data.values\n",
    "\n",
    "#shape of data \n",
    "numpy_data.shape, numpy_data[:10]"
   ]
  },
  {
   "cell_type": "code",
   "execution_count": 5,
   "id": "2ee82724-99a9-4314-8580-f3fede218b12",
   "metadata": {},
   "outputs": [
    {
     "name": "stdout",
     "output_type": "stream",
     "text": [
      "               Iy          PF           e         dIf           If\n",
      "count  557.000000  557.000000  557.000000  557.000000   557.000000\n",
      "mean    39.763016   73.238779   15.838420  317.050269  1364.861759\n",
      "std     15.785814   26.405977   10.966386  201.304856   490.655197\n",
      "min      3.000000    1.000000    0.000000    1.000000    14.000000\n",
      "25%     34.000000   69.000000    5.000000  151.000000  1331.000000\n",
      "50%     43.000000   79.000000   15.000000  315.000000  1495.000000\n",
      "75%     52.000000   89.000000   25.000000  471.000000  1651.000000\n",
      "max     59.000000   99.000000   35.000000  769.000000  1949.000000\n",
      "Index(['Iy', 'PF', 'e', 'dIf', 'If'], dtype='object')\n"
     ]
    }
   ],
   "source": [
    "import pandas as pd\n",
    "import numpy as np\n",
    "\n",
    "# Read CSV with proper delimiter and thousands separator\n",
    "data = pd.read_csv(csv_filename, delimiter=\";\", thousands=',')\n",
    "print(data.describe())\n",
    "print(data.columns)"
   ]
  },
  {
   "cell_type": "code",
   "execution_count": 6,
   "id": "f502c9f0-c056-41c4-b7f9-08de9dd98564",
   "metadata": {},
   "outputs": [
    {
     "data": {
      "text/plain": [
       "((557, 5),\n",
       " array([[   3,   66,   34,  383, 1563],\n",
       "        [   3,   68,   32,  372, 1552],\n",
       "        [   3,    7,    3,   36,  154],\n",
       "        [   3,   72,   28,  338, 1518],\n",
       "        [   3,   74,   26,  317, 1497],\n",
       "        [   3,   76,   24,  301, 1481],\n",
       "        [   3,   78,   22,   29,  147],\n",
       "        [   3,    8,    2,   28,  146],\n",
       "        [   3,   82,   18,   25,  143],\n",
       "        [   3,   84,   16,  221, 1401]], dtype=int64))"
      ]
     },
     "execution_count": 6,
     "metadata": {},
     "output_type": "execute_result"
    }
   ],
   "source": [
    "#converting dataframe into numpy_data\n",
    "numpy_data = data.values\n",
    "\n",
    "#shape of data \n",
    "numpy_data.shape, numpy_data[:10]"
   ]
  },
  {
   "cell_type": "code",
   "execution_count": 7,
   "id": "85c965f7-24c4-4419-b29e-5a4429799910",
   "metadata": {},
   "outputs": [
    {
     "data": {
      "text/plain": [
       "(torch.Size([557, 5]),\n",
       " tensor([[   3.,   66.,   34.,  383., 1563.],\n",
       "         [   3.,   68.,   32.,  372., 1552.],\n",
       "         [   3.,    7.,    3.,   36.,  154.],\n",
       "         [   3.,   72.,   28.,  338., 1518.],\n",
       "         [   3.,   74.,   26.,  317., 1497.],\n",
       "         [   3.,   76.,   24.,  301., 1481.],\n",
       "         [   3.,   78.,   22.,   29.,  147.],\n",
       "         [   3.,    8.,    2.,   28.,  146.],\n",
       "         [   3.,   82.,   18.,   25.,  143.],\n",
       "         [   3.,   84.,   16.,  221., 1401.]]))"
      ]
     },
     "execution_count": 7,
     "metadata": {},
     "output_type": "execute_result"
    }
   ],
   "source": [
    "# Converting numpy data to PyTorch tensor\n",
    "original_data_tensor = torch.tensor(numpy_data, dtype=torch.float32).to(device)\n",
    "original_data_tensor.shape, original_data_tensor[:10]"
   ]
  },
  {
   "cell_type": "code",
   "execution_count": 8,
   "id": "51c0072e-9981-45a6-a203-931f22745ae9",
   "metadata": {},
   "outputs": [
    {
     "data": {
      "text/plain": [
       "(tensor([[3.1420, 3.1420, 3.1420, 3.1420, 3.1420],\n",
       "         [3.1420, 3.1420, 3.1420, 3.1420, 3.1420],\n",
       "         [3.1420, 3.1420, 3.1420, 3.1420, 3.1420],\n",
       "         [3.1420, 3.1420, 3.1420, 3.1420, 3.1420],\n",
       "         [3.1420, 3.1420, 3.1420, 3.1420, 3.1420],\n",
       "         [3.1420, 3.1420, 3.1420, 3.1420, 3.1420],\n",
       "         [3.1420, 3.1420, 3.1420, 3.1420, 3.1420],\n",
       "         [3.1420, 3.1420, 3.1420, 3.1420, 3.1420],\n",
       "         [3.1420, 3.1420, 3.1420, 3.1420, 3.1420],\n",
       "         [3.1420, 3.1420, 3.1420, 3.1420, 3.1420]]),\n",
       " device(type='cpu'),\n",
       " torch.float32)"
      ]
     },
     "execution_count": 8,
     "metadata": {},
     "output_type": "execute_result"
    }
   ],
   "source": [
    "# a. Create pi tensor with 3.142 values\n",
    "dataset_size = original_data_tensor.shape\n",
    "my_pi_tensor = torch.full(dataset_size, 3.142, device=device)\n",
    "my_pi_tensor[:10], my_pi_tensor.device, my_pi_tensor.dtype"
   ]
  },
  {
   "cell_type": "code",
   "execution_count": 9,
   "id": "5b2b0cc6-f680-4f05-9162-3ce004c07da7",
   "metadata": {},
   "outputs": [
    {
     "data": {
      "text/plain": [
       "6.143364429473877"
      ]
     },
     "execution_count": 9,
     "metadata": {},
     "output_type": "execute_result"
    }
   ],
   "source": [
    "# Fifth root of sum of my_pi_tensor\n",
    "fifth_root = torch.sum(my_pi_tensor).pow(1/5)\n",
    "fifth_root.item()"
   ]
  },
  {
   "cell_type": "code",
   "execution_count": 10,
   "id": "9cf6770e-d2a4-41ca-b447-4b6555e4bb11",
   "metadata": {},
   "outputs": [
    {
     "data": {
      "text/plain": [
       "torch.Size([200, 5])"
      ]
     },
     "execution_count": 10,
     "metadata": {},
     "output_type": "execute_result"
    }
   ],
   "source": [
    "#  Creating my_data_tensor \n",
    "my_data_tensor = torch.cat([original_data_tensor[:100], original_data_tensor[-100:]])\n",
    "my_data_tensor.shape"
   ]
  },
  {
   "cell_type": "code",
   "execution_count": 11,
   "id": "1b5c2eb6-70a1-452f-be80-48cbdfa94ba7",
   "metadata": {},
   "outputs": [
    {
     "name": "stdout",
     "output_type": "stream",
     "text": [
      "torch.Size([200]) torch.Size([200])\n"
     ]
    },
    {
     "data": {
      "text/plain": [
       "(tensor([383., 372.,  36., 338., 317., 301.,  29.,  28.,  25., 221.]),\n",
       " tensor([1563., 1552.,  154., 1518., 1497., 1481.,  147.,  146.,  143., 1401.]))"
      ]
     },
     "execution_count": 11,
     "metadata": {},
     "output_type": "execute_result"
    }
   ],
   "source": [
    "# Extracting Features and Target\n",
    "features = my_data_tensor[:, 3]  # dIf (Change in excitation current) is the fourth column from our data features as viewed using pandas\n",
    "target = my_data_tensor[:, 4]  # If (Excitation current) is the fifth/last column from our data features as viewed using pandas\n",
    "print(features.shape, target.shape)\n",
    "features[:10], target[:10]"
   ]
  },
  {
   "cell_type": "code",
   "execution_count": 12,
   "id": "5b68edf4-d52d-407f-ad1b-05e6784833c5",
   "metadata": {},
   "outputs": [
    {
     "name": "stdout",
     "output_type": "stream",
     "text": [
      "torch.Size([200, 1]) torch.Size([200, 1])\n"
     ]
    },
    {
     "data": {
      "text/plain": [
       "(tensor([[383.],\n",
       "         [372.]]),\n",
       " tensor([[1563.],\n",
       "         [1552.]]))"
      ]
     },
     "execution_count": 12,
     "metadata": {},
     "output_type": "execute_result"
    }
   ],
   "source": [
    "# Reshape to 2D\n",
    "target = target.unsqueeze(1)\n",
    "features = features.unsqueeze(1)\n",
    "print(features.shape, target.shape)\n",
    "features[:2], target[:2]"
   ]
  },
  {
   "cell_type": "code",
   "execution_count": 13,
   "id": "6b0194eb-ff9a-46c2-a6da-f3c2c8fc78ad",
   "metadata": {},
   "outputs": [
    {
     "data": {
      "text/plain": [
       "(150, 50, 150, 50)"
      ]
     },
     "execution_count": 13,
     "metadata": {},
     "output_type": "execute_result"
    }
   ],
   "source": [
    "#  Splitting data into Training (75%) and Test (25%)\n",
    "train_size = int(0.75 * len(features))\n",
    "X_train, y_train = features[:train_size], target[:train_size]\n",
    "X_test, y_test = features[train_size:], target[train_size:]\n",
    "len(X_train), len(X_test), len(y_train), len(y_test)"
   ]
  },
  {
   "cell_type": "code",
   "execution_count": 14,
   "id": "a7f07209-687b-49c9-be76-16c277165689",
   "metadata": {},
   "outputs": [
    {
     "data": {
      "image/png": "[encoded data removed]",
      "text/plain": [
       "<Figure size 1000x700 with 1 Axes>"
      ]
     },
     "metadata": {},
     "output_type": "display_data"
    }
   ],
   "source": [
    "import matplotlib.pyplot as plt\n",
    "def plot_predictions(train_data=X_train,\n",
    "                     train_labels=y_train,\n",
    "                     test_data=X_test,\n",
    "                     test_labels=y_test,\n",
    "                     predictions=None):\n",
    "  \"\"\"\n",
    "  Plots training data, test data and compares predictions.\n",
    "  \"\"\"\n",
    "  plt.figure(figsize=(10, 7))\n",
    "\n",
    "  # Plot training data in blue\n",
    "  plt.scatter(train_data, train_labels, c=\"b\", s=4, label=\"Training data\")\n",
    "\n",
    "  # Plot test data in green\n",
    "  plt.scatter(test_data, test_labels, c=\"g\", s=4, label=\"Testing data\")\n",
    "\n",
    "  if predictions is not None:\n",
    "    # Plot the predictions in red (predictions were made on the test data)\n",
    "    plt.scatter(test_data, predictions, c=\"r\", s=4, label=\"Predictions\")\n",
    "\n",
    "  # Show the legend\n",
    "  plt.legend(prop={\"size\": 14});\n",
    "\n",
    "plot_predictions(X_train, y_train, X_test, y_test)"
   ]
  },
  {
   "cell_type": "code",
   "execution_count": 15,
   "id": "003aed6a-c23a-4cc5-ae17-8c091cf87836",
   "metadata": {},
   "outputs": [],
   "source": [
    "class LinearRegressionModel(nn.Module):\n",
    "    def __init__(self):\n",
    "        super().__init__()\n",
    "        self.weights = nn.Parameter(torch.randn(1, dtype=torch.float), requires_grad=True)\n",
    "\n",
    "        self.bias = nn.Parameter(torch.randn(1,dtype=torch.float),requires_grad=True)\n",
    "\n",
    "    # Forward defines the computation in the model\n",
    "    def forward(self, x: torch.Tensor) -> torch.Tensor:\n",
    "        return self.weights * x + self.bias # the linear regression formula (y = m*x + b) where m=self.weights and b=self.bais\n",
    "     "
   ]
  },
  {
   "cell_type": "code",
   "execution_count": 16,
   "id": "68e2af7a-a301-40d0-b86f-856ebae1a823",
   "metadata": {},
   "outputs": [
    {
     "data": {
      "text/plain": [
       "OrderedDict([('weights', tensor([0.3367])), ('bias', tensor([0.1288]))])"
      ]
     },
     "execution_count": 16,
     "metadata": {},
     "output_type": "execute_result"
    }
   ],
   "source": [
    "torch.manual_seed(42)\n",
    "\n",
    "model_ = LinearRegressionModel()\n",
    "\n",
    "model_.state_dict()"
   ]
  },
  {
   "cell_type": "code",
   "execution_count": 17,
   "id": "9a736653-a836-4c5e-af4f-72133f3116f7",
   "metadata": {},
   "outputs": [
    {
     "data": {
      "text/plain": [
       "device(type='cpu')"
      ]
     },
     "execution_count": 17,
     "metadata": {},
     "output_type": "execute_result"
    }
   ],
   "source": [
    "#move model to preffered device \n",
    "model_.to(device) \n",
    "next(model_.parameters()).device"
   ]
  },
  {
   "cell_type": "code",
   "execution_count": 18,
   "id": "d6d1b01b-3d45-4a72-84c3-5f6679782c44",
   "metadata": {},
   "outputs": [],
   "source": [
    "# Create loss function\n",
    "loss_fn = nn.L1Loss()\n",
    "\n",
    "# Create optimizer with learning rate 0.01\n",
    "optimizer = torch.optim.Adam(params=model_.parameters(),lr=0.01)"
   ]
  },
  {
   "cell_type": "code",
   "execution_count": 19,
   "id": "35c58b0a-9de0-4c60-91e9-7abc13653e03",
   "metadata": {},
   "outputs": [
    {
     "name": "stdout",
     "output_type": "stream",
     "text": [
      "Epoch: 0 | MAE Train Loss: 1233.6229248046875 | MAE Test Loss: 1339.9893798828125 \n",
      "Epoch: 100 | MAE Train Loss: 948.3297729492188 | MAE Test Loss: 931.329833984375 \n",
      "Epoch: 200 | MAE Train Loss: 663.0368041992188 | MAE Test Loss: 522.670166015625 \n",
      "Epoch: 300 | MAE Train Loss: 504.6107177734375 | MAE Test Loss: 353.3076171875 \n",
      "Epoch: 400 | MAE Train Loss: 454.6542053222656 | MAE Test Loss: 390.256591796875 \n",
      "Epoch: 500 | MAE Train Loss: 427.6521301269531 | MAE Test Loss: 463.95733642578125 \n",
      "Epoch: 600 | MAE Train Loss: 423.26202392578125 | MAE Test Loss: 497.8829040527344 \n",
      "Epoch: 700 | MAE Train Loss: 423.00927734375 | MAE Test Loss: 499.82501220703125 \n",
      "Epoch: 800 | MAE Train Loss: 422.743896484375 | MAE Test Loss: 500.658203125 \n",
      "Epoch: 900 | MAE Train Loss: 422.4660949707031 | MAE Test Loss: 500.68878173828125 \n",
      "Epoch: 1000 | MAE Train Loss: 422.1759948730469 | MAE Test Loss: 500.3833923339844 \n",
      "Epoch: 1100 | MAE Train Loss: 421.8868103027344 | MAE Test Loss: 500.0268859863281 \n",
      "Epoch: 1200 | MAE Train Loss: 421.59033203125 | MAE Test Loss: 499.6649169921875 \n",
      "Epoch: 1300 | MAE Train Loss: 421.28375244140625 | MAE Test Loss: 499.31640625 \n",
      "Epoch: 1400 | MAE Train Loss: 420.9679260253906 | MAE Test Loss: 498.9593811035156 \n",
      "Epoch: 1500 | MAE Train Loss: 420.64349365234375 | MAE Test Loss: 498.5835876464844 \n",
      "Epoch: 1600 | MAE Train Loss: 420.3112487792969 | MAE Test Loss: 498.1846008300781 \n",
      "Epoch: 1700 | MAE Train Loss: 419.97186279296875 | MAE Test Loss: 497.7652282714844 \n",
      "Epoch: 1800 | MAE Train Loss: 419.6259765625 | MAE Test Loss: 497.382080078125 \n",
      "Epoch: 1900 | MAE Train Loss: 419.2740173339844 | MAE Test Loss: 496.9542541503906 \n",
      "Epoch: 2000 | MAE Train Loss: 418.91650390625 | MAE Test Loss: 496.59765625 \n",
      "Epoch: 2100 | MAE Train Loss: 418.55401611328125 | MAE Test Loss: 496.0834655761719 \n",
      "Epoch: 2200 | MAE Train Loss: 418.1868896484375 | MAE Test Loss: 495.6446838378906 \n",
      "Epoch: 2300 | MAE Train Loss: 417.8155517578125 | MAE Test Loss: 495.2045593261719 \n",
      "Epoch: 2400 | MAE Train Loss: 417.4403381347656 | MAE Test Loss: 494.7549743652344 \n",
      "Epoch: 2500 | MAE Train Loss: 417.0616760253906 | MAE Test Loss: 494.3462829589844 \n",
      "Epoch: 2600 | MAE Train Loss: 416.67974853515625 | MAE Test Loss: 493.94500732421875 \n",
      "Epoch: 2700 | MAE Train Loss: 416.2949523925781 | MAE Test Loss: 493.39453125 \n",
      "Epoch: 2800 | MAE Train Loss: 415.90740966796875 | MAE Test Loss: 493.07049560546875 \n",
      "Epoch: 2900 | MAE Train Loss: 415.51763916015625 | MAE Test Loss: 492.4504699707031 \n",
      "Epoch: 3000 | MAE Train Loss: 415.1298828125 | MAE Test Loss: 491.5852355957031 \n",
      "Epoch: 3100 | MAE Train Loss: 414.7545166015625 | MAE Test Loss: 488.7240295410156 \n",
      "Epoch: 3200 | MAE Train Loss: 414.37908935546875 | MAE Test Loss: 487.68878173828125 \n",
      "Epoch: 3300 | MAE Train Loss: 414.0018005371094 | MAE Test Loss: 487.03643798828125 \n",
      "Epoch: 3400 | MAE Train Loss: 413.6229553222656 | MAE Test Loss: 486.8077697753906 \n",
      "Epoch: 3500 | MAE Train Loss: 413.2416076660156 | MAE Test Loss: 486.251953125 \n",
      "Epoch: 3600 | MAE Train Loss: 412.8587646484375 | MAE Test Loss: 485.81756591796875 \n",
      "Epoch: 3700 | MAE Train Loss: 412.4742736816406 | MAE Test Loss: 485.4691162109375 \n",
      "Epoch: 3800 | MAE Train Loss: 412.10662841796875 | MAE Test Loss: 484.9136047363281 \n",
      "Epoch: 3900 | MAE Train Loss: 411.7411193847656 | MAE Test Loss: 484.4294128417969 \n",
      "Epoch: 4000 | MAE Train Loss: 411.3736572265625 | MAE Test Loss: 484.1046142578125 \n",
      "Epoch: 4100 | MAE Train Loss: 411.01373291015625 | MAE Test Loss: 483.6478576660156 \n",
      "Epoch: 4200 | MAE Train Loss: 410.6646728515625 | MAE Test Loss: 483.19073486328125 \n",
      "Epoch: 4300 | MAE Train Loss: 410.3130187988281 | MAE Test Loss: 482.6763000488281 \n",
      "Epoch: 4400 | MAE Train Loss: 409.95977783203125 | MAE Test Loss: 482.3570251464844 \n",
      "Epoch: 4500 | MAE Train Loss: 409.6485290527344 | MAE Test Loss: 482.1322937011719 \n",
      "Epoch: 4600 | MAE Train Loss: 409.3323669433594 | MAE Test Loss: 481.4818420410156 \n",
      "Epoch: 4700 | MAE Train Loss: 409.01507568359375 | MAE Test Loss: 481.2123107910156 \n",
      "Epoch: 4800 | MAE Train Loss: 408.6966247558594 | MAE Test Loss: 480.7992248535156 \n",
      "Epoch: 4900 | MAE Train Loss: 408.371826171875 | MAE Test Loss: 480.4599609375 \n"
     ]
    }
   ],
   "source": [
    "torch.manual_seed(42)\n",
    "\n",
    "# Setting the number of epochs to 300\n",
    "epochs = 5000\n",
    "\n",
    "# Create empty loss lists to track values\n",
    "train_loss_values = []\n",
    "test_loss_values = []\n",
    "epoch_count = []\n",
    "\n",
    "\n",
    " # Putting data on the available device\n",
    "X_train = X_train.to(device)\n",
    "X_test = X_test.to(device)\n",
    "y_train = y_train.to(device)\n",
    "y_test = y_test.to(device)\n",
    "\n",
    "\n",
    "for epoch in range(epochs):\n",
    "    ### Training\n",
    "    model_.train()\n",
    "\n",
    "    # 1. Forward pass\n",
    "    y_pred = model_(X_train)\n",
    "\n",
    "    # 2. Calculate loss\n",
    "    loss = loss_fn(y_pred, y_train)\n",
    "\n",
    "    # 3. Zero grad optimizer\n",
    "    optimizer.zero_grad()\n",
    "\n",
    "    # 4. Loss backward\n",
    "    loss.backward()\n",
    "\n",
    "    # 5. Step the optimizer\n",
    "    optimizer.step()\n",
    "\n",
    "    # Put the model in evaluation mode\n",
    "    model_.eval()\n",
    "\n",
    "    with torch.inference_mode():\n",
    "      # 1. Forward pass on test data\n",
    "      test_pred = model_(X_test)\n",
    "\n",
    "      # 2. Caculate loss on test data\n",
    "      test_loss = loss_fn(test_pred, y_test.type(torch.float))\n",
    "\n",
    "\n",
    "     # Print out what's happening\n",
    "      if epoch % 100 == 0:\n",
    "            epoch_count.append(epoch)\n",
    "            train_loss_values.append(loss.detach().numpy())\n",
    "            test_loss_values.append(test_loss.detach().numpy())\n",
    "            print(f\"Epoch: {epoch} | MAE Train Loss: {loss} | MAE Test Loss: {test_loss} \")\n",
    "          "
   ]
  },
  {
   "cell_type": "code",
   "execution_count": 22,
   "id": "acdc9f4b-74f0-406d-b3b0-275183b258a0",
   "metadata": {},
   "outputs": [
    {
     "data": {
      "image/png": "[encoded data removed]",
      "text/plain": [
       "<Figure size 640x480 with 1 Axes>"
      ]
     },
     "metadata": {},
     "output_type": "display_data"
    }
   ],
   "source": [
    "# Plot the loss curves\n",
    "plt.plot(epoch_count, train_loss_values, label=\"Train loss\")\n",
    "plt.plot(epoch_count, test_loss_values, label=\"Test loss\")\n",
    "plt.title(\"Training and test loss curves\")\n",
    "plt.ylabel(\"Loss\")\n",
    "plt.xlabel(\"Epochs\")\n",
    "plt.legend();"
   ]
  },
  {
   "cell_type": "code",
   "execution_count": 21,
   "id": "ada6cf12-25ea-4499-9e10-73a05af7a79d",
   "metadata": {},
   "outputs": [
    {
     "name": "stdout",
     "output_type": "stream",
     "text": [
      "Model accuracy:  0.5798492783833392\n"
     ]
    }
   ],
   "source": [
    "from sklearn.metrics import r2_score\n",
    "with torch.inference_mode():\n",
    "      # 1. Forward pass on test data\n",
    "    test_pred = model_(X_test)\n",
    "    print(\"Model accuracy: \",r2_score(test_pred,y_test))"
   ]
  },
  {
   "cell_type": "markdown",
   "id": "5ebbf585-177e-48f6-99f1-95578ccf6920",
   "metadata": {},
   "source": [
    "### COMMENT\n",
    "Using the r2_score from sklearn library the accuracy of the model was found to be 58%, having test different learning rate the best learning rate was found as 0.001. looking back at the model traing the following are suggested to improve the accuracy of your model\n",
    "1. The model should be trained on more features, the dataset had four features but only one was use to train the model, incorporating the remaining features to train the model will improve the model accuracy\n",
    "2. Increasing the number of epochs: From the MAE loss it could be observed that as the epochs increases the model performs better\n",
    "3. Scaling: Also on my own personal note, i think scaling of the features using either mormalization or standardization could increases the model performance."
   ]
  },
  {
   "cell_type": "code",
   "execution_count": null,
   "id": "81a2fc2c-d627-4d29-8e8b-c9d6dd93cb07",
   "metadata": {},
   "outputs": [],
   "source": []
  }
 ],
 "metadata": {
  "kernelspec": {
   "display_name": "Python 3 (ipykernel)",
   "language": "python",
   "name": "python3"
  },
  "language_info": {
   "codemirror_mode": {
    "name": "ipython",
    "version": 3
   },
   "file_extension": ".py",
   "mimetype": "text/x-python",
   "name": "python",
   "nbconvert_exporter": "python",
   "pygments_lexer": "ipython3",
   "version": "3.12.7"
  }
 },
 "nbformat": 4,
 "nbformat_minor": 5
}
